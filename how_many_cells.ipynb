{
 "cells": [
  {
   "cell_type": "markdown",
   "id": "d97e259f",
   "metadata": {},
   "source": [
    "## User's choice"
   ]
  },
  {
   "cell_type": "code",
   "execution_count": 1,
   "id": "c38b8f74",
   "metadata": {},
   "outputs": [],
   "source": [
    "# for all the paths, do not add the final slash\n",
    "\n",
    "project_path = \"\"  # you should keep everything in the same main folder\n",
    "\n",
    "# where the images are : example --> + \"/data/FDV_cell_database/Long shape\"\n",
    "# be careful to enter the path to one of the 6 categorie folders (not image file !!)\n",
    "image_path = project_path + \"\"\n",
    "\n",
    "\n",
    "# where the results go\n",
    "# for centroid csv : example --> + \"/how_many_cells/centroid_database\"\n",
    "centroid_result_path = project_path + \"\"\n",
    "\n",
    "# for masks : example --> + \"intermediate_results/masks\"\n",
    "mask_result_path = project_path + \"\"\n",
    "\n",
    "# for the final csv of \"how many cells?\" : example --> + \"how_many_cells/centroid_database\"\n",
    "nb_cells_final_csv_path = project_path + \"\"\n"
   ]
  },
  {
   "cell_type": "markdown",
   "id": "97458f2f",
   "metadata": {},
   "source": [
    "### complete example for the category long shape cells : \n",
    "\n",
    "project_path = \"/Users/camille/Documents/project plants\"\n",
    "\n",
    "image_path = \"/Users/camille/Documents/project plants/data/FDV_cell_database/Long shape\"\n",
    "\n",
    "centroid_result_path = \"/Users/camille/Documents/project plants/how_many_cells/centroid_database\"\n",
    "\n",
    "mask_result_path = \"/Users/camille/Documents/project plants/intermediate_results/masks\"\n",
    "\n",
    "nb_cells_final_csv_path = \"/Users/camille/Documents/project plants/how_many_cells/centroid_database\""
   ]
  },
  {
   "cell_type": "markdown",
   "id": "057a0271",
   "metadata": {},
   "source": [
    "## All imports"
   ]
  },
  {
   "cell_type": "code",
   "execution_count": 7,
   "id": "ee68807e",
   "metadata": {},
   "outputs": [
    {
     "ename": "ModuleNotFoundError",
     "evalue": "No module named 'src'",
     "output_type": "error",
     "traceback": [
      "\u001b[0;31m---------------------------------------------------------------------------\u001b[0m",
      "\u001b[0;31mModuleNotFoundError\u001b[0m                       Traceback (most recent call last)",
      "Cell \u001b[0;32mIn[7], line 24\u001b[0m\n\u001b[1;32m     16\u001b[0m \u001b[38;5;28;01mfrom\u001b[39;00m \u001b[38;5;21;01mskimage\u001b[39;00m\u001b[38;5;21;01m.\u001b[39;00m\u001b[38;5;21;01mmeasure\u001b[39;00m \u001b[38;5;28;01mimport\u001b[39;00m label, regionprops, regionprops_table\n\u001b[1;32m     18\u001b[0m \u001b[38;5;66;03m# and we import the necessary functions from the associated .py document\u001b[39;00m\n\u001b[1;32m     19\u001b[0m \n\u001b[1;32m     20\u001b[0m \u001b[38;5;66;03m# the 6 segmentations\u001b[39;00m\n\u001b[1;32m     21\u001b[0m \u001b[38;5;66;03m#from src.how_many_cells_functions import long_segmentation, puzzle_segmentation, half_segmentation, croco_segmentation, round_segmentation, five_segmentation\u001b[39;00m\n\u001b[1;32m     22\u001b[0m \n\u001b[1;32m     23\u001b[0m \u001b[38;5;66;03m# the 6 functions to save masks\u001b[39;00m\n\u001b[0;32m---> 24\u001b[0m \u001b[38;5;28;01mfrom\u001b[39;00m \u001b[38;5;21;01msrc\u001b[39;00m\u001b[38;5;21;01m.\u001b[39;00m\u001b[38;5;21;01mhow_many_cells_functions\u001b[39;00m \u001b[38;5;28;01mimport\u001b[39;00m save_long_mask, save_puzzle_mask, save_half_mask, save_croco_mask, save_round_mask, save_five_mask\n\u001b[1;32m     26\u001b[0m \u001b[38;5;66;03m# the rest of the functions\u001b[39;00m\n\u001b[1;32m     27\u001b[0m \u001b[38;5;28;01mfrom\u001b[39;00m \u001b[38;5;21;01msrc\u001b[39;00m\u001b[38;5;21;01m.\u001b[39;00m\u001b[38;5;21;01mhow_many_cells_functions\u001b[39;00m \u001b[38;5;28;01mimport\u001b[39;00m count_cells, centroids, nb_cells_centroid_csv\n",
      "\u001b[0;31mModuleNotFoundError\u001b[0m: No module named 'src'"
     ]
    }
   ],
   "source": [
    "import napari\n",
    "import numpy as np\n",
    "import pandas as pd\n",
    "import tifffile\n",
    "import skimage\n",
    "import os\n",
    "import glob\n",
    "from scipy import ndimage as ndi\n",
    "from tifffile import imread\n",
    "from skimage import color\n",
    "from skimage import data    \n",
    "from skimage import morphology\n",
    "from skimage.morphology import disk\n",
    "from skimage.filters import median    \n",
    "from skimage.filters import threshold_local\n",
    "from skimage.measure import label, regionprops, regionprops_table\n",
    "\n",
    "# and we import the necessary functions from the associated .py document\n",
    "\n",
    "# the 6 segmentations\n",
    "from src.how_many_cells_functions import long_segmentation, puzzle_segmentation, half_segmentation, croco_segmentation, round_segmentation, five_segmentation\n",
    "\n",
    "# the 6 functions to save masks\n",
    "from src.how_many_cells_functions import save_long_mask, save_puzzle_mask, save_half_mask, save_croco_mask, save_round_mask, save_five_mask\n",
    "\n",
    "# the rest of the functions\n",
    "from src.how_many_cells_functions import count_cells, centroids, nb_cells_centroid_csv\n"
   ]
  },
  {
   "cell_type": "markdown",
   "id": "bf949a7c",
   "metadata": {},
   "source": [
    "# 1. Segmentations "
   ]
  },
  {
   "cell_type": "markdown",
   "id": "67a5ec51",
   "metadata": {},
   "source": [
    "## Long shape cells segmentation"
   ]
  },
  {
   "cell_type": "code",
   "execution_count": 5,
   "id": "0637cd6e",
   "metadata": {},
   "outputs": [],
   "source": [
    "# the function to save masks calls the segmentation function\n",
    "# both are defined in the src\n",
    "# for each shape the image_path is the one to the categorie's folder\n",
    "# example : image_path = \"/Users/camille/Documents/project plants/data/FDV_cell_database new/Long shape\"\n",
    "\n",
    "save_long_mask(image_path,mask_result_path)"
   ]
  },
  {
   "cell_type": "markdown",
   "id": "f72fc52c",
   "metadata": {},
   "source": [
    "## Puzzle shape segmentation"
   ]
  },
  {
   "cell_type": "code",
   "execution_count": null,
   "id": "0f467257",
   "metadata": {},
   "outputs": [],
   "source": [
    "# example : image_path = \"/Users/camille/Documents/project plants/data/FDV_cell_database new/Puzzle shape\"\n",
    "save_long_mask(image_path,mask_result_path)"
   ]
  },
  {
   "cell_type": "markdown",
   "id": "8075ebad",
   "metadata": {},
   "source": [
    "## Half shape segmentation"
   ]
  },
  {
   "cell_type": "code",
   "execution_count": null,
   "id": "a149ed9f",
   "metadata": {},
   "outputs": [],
   "source": [
    "# example : image_path = \"/Users/camille/Documents/project plants/data/FDV_cell_database new/Half shape\"\n",
    "save_half_mask(image_path,mask_result_path)"
   ]
  },
  {
   "cell_type": "markdown",
   "id": "d2ccce48",
   "metadata": {},
   "source": [
    "## Croco shape segmentation"
   ]
  },
  {
   "cell_type": "code",
   "execution_count": null,
   "id": "3e6a64f9",
   "metadata": {},
   "outputs": [],
   "source": [
    "# example : image_path = \"/Users/camille/Documents/project plants/data/FDV_cell_database new/Croco shape\"\n",
    "save_croco_mask(image_path,mask_result_path)"
   ]
  },
  {
   "cell_type": "markdown",
   "id": "9bf43961",
   "metadata": {},
   "source": [
    "## Round shape segmentation"
   ]
  },
  {
   "cell_type": "code",
   "execution_count": null,
   "id": "085551a5",
   "metadata": {},
   "outputs": [],
   "source": [
    "# example : image_path = \"/Users/camille/Documents/project plants/data/FDV_cell_database new/Round shape\"\n",
    "save_round_mask(image_path,mask_result_path)"
   ]
  },
  {
   "cell_type": "markdown",
   "id": "6c087e28",
   "metadata": {},
   "source": [
    "## 5_20 shape segmentation"
   ]
  },
  {
   "cell_type": "code",
   "execution_count": null,
   "id": "517d4541",
   "metadata": {},
   "outputs": [],
   "source": [
    "# example : image_path = \"/Users/camille/Documents/project plants/data/FDV_cell_database new/5_20 shape\"\n",
    "save_five_mask(image_path,mask_result_path)"
   ]
  },
  {
   "cell_type": "markdown",
   "id": "40b7ff76",
   "metadata": {},
   "source": [
    "# 2. Create centroids csv for all images"
   ]
  },
  {
   "cell_type": "code",
   "execution_count": null,
   "id": "ad7933ff",
   "metadata": {},
   "outputs": [],
   "source": [
    "centroids(mask_result_path, centroid_result_path)"
   ]
  },
  {
   "cell_type": "markdown",
   "id": "cc287fb0",
   "metadata": {},
   "source": [
    "# 3. Final csv : \n",
    "## image name, number of cells, centroid csv filename"
   ]
  },
  {
   "cell_type": "code",
   "execution_count": null,
   "id": "0bc3cc62",
   "metadata": {},
   "outputs": [],
   "source": [
    "nb_cells_centroid_csv(centroid_result_path, nb_cells_final_csv_path, mask_result_path)"
   ]
  }
 ],
 "metadata": {
  "kernelspec": {
   "display_name": "Python 3 (ipykernel)",
   "language": "python",
   "name": "python3"
  },
  "language_info": {
   "codemirror_mode": {
    "name": "ipython",
    "version": 3
   },
   "file_extension": ".py",
   "mimetype": "text/x-python",
   "name": "python",
   "nbconvert_exporter": "python",
   "pygments_lexer": "ipython3",
   "version": "3.9.15"
  }
 },
 "nbformat": 4,
 "nbformat_minor": 5
}
