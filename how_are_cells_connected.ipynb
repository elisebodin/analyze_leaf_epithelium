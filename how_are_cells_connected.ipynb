{
 "cells": [
  {
   "cell_type": "markdown",
   "id": "24a7a1a3",
   "metadata": {},
   "source": [
    "# User's choice"
   ]
  },
  {
   "cell_type": "code",
   "execution_count": 6,
   "id": "fad5cd13",
   "metadata": {},
   "outputs": [],
   "source": [
    "# for all the paths, do not add the final slash\n",
    "\n",
    "project_path = \"\"  # you should keep everything in the same main folder\n",
    "\n",
    "# where the images are : example --> + \"/data/FDV_cell_database\"\n",
    "images_path = project_path + \"\"\n",
    "\n",
    "# where the results go\n",
    "# for centroid csv : example --> + \"/how_are_cells_connected/junctions_centroids_database\"\n",
    "centroid_result_path = project_path + \"\"\n",
    "\n",
    "# for masks : example --> + \"/intermediate_results/junction_masks\"\n",
    "mask_result_path = project_path + \"\"\n"
   ]
  },
  {
   "cell_type": "markdown",
   "id": "4d0a32e5",
   "metadata": {},
   "source": [
    "## Full example\n",
    "\n",
    "### enter the path to the image you want to analyze \n",
    "images_path = \"/Users/camille/Documents/project plants/data/FDV_cell_database\"\n",
    "\n",
    "### enter the path to the place you want to store the masks once you have applied them to the images\n",
    "mask_result_path = \"/Users/camille/Documents/project plants/intermediate_results/junction_masks\"\n",
    "\n",
    "### enter the path to the place you want to store the multiple csv with the centroids \n",
    "centroid_result_path = \"/Users/camille/Documents/project plants/how_are_cells_connected/junctions_centroids_database\""
   ]
  },
  {
   "cell_type": "markdown",
   "id": "7612523b",
   "metadata": {},
   "source": [
    "# All imports\n"
   ]
  },
  {
   "cell_type": "code",
   "execution_count": 5,
   "id": "e5489e49",
   "metadata": {},
   "outputs": [
    {
     "ename": "ImportError",
     "evalue": "cannot import name 'total_junctions' from 'src.junctions_functions' (/Users/camille/Documents/project plants/src/junctions_functions.py)",
     "output_type": "error",
     "traceback": [
      "\u001b[0;31m---------------------------------------------------------------------------\u001b[0m",
      "\u001b[0;31mImportError\u001b[0m                               Traceback (most recent call last)",
      "Cell \u001b[0;32mIn[5], line 26\u001b[0m\n\u001b[1;32m     22\u001b[0m \u001b[38;5;28;01mfrom\u001b[39;00m \u001b[38;5;21;01msklearn\u001b[39;00m\u001b[38;5;21;01m.\u001b[39;00m\u001b[38;5;21;01mneighbors\u001b[39;00m \u001b[38;5;28;01mimport\u001b[39;00m NearestNeighbors\n\u001b[1;32m     25\u001b[0m \u001b[38;5;66;03m# import from the .py file associated to this code\u001b[39;00m\n\u001b[0;32m---> 26\u001b[0m \u001b[38;5;28;01mfrom\u001b[39;00m \u001b[38;5;21;01msrc\u001b[39;00m\u001b[38;5;21;01m.\u001b[39;00m\u001b[38;5;21;01mjunctions_functions\u001b[39;00m \u001b[38;5;28;01mimport\u001b[39;00m total_junctions, non_triangular_junctions, nbr_junctions_total_csv\n",
      "\u001b[0;31mImportError\u001b[0m: cannot import name 'total_junctions' from 'src.junctions_functions' (/Users/camille/Documents/project plants/src/junctions_functions.py)"
     ]
    }
   ],
   "source": [
    "#Import all necessary packages\n",
    "\n",
    "from scipy import ndimage as ndi\n",
    "import pandas as pd\n",
    "import napari\n",
    "import numpy as np\n",
    "import tifffile\n",
    "import skimage\n",
    "import glob\n",
    "import matplotlib.pyplot as plt\n",
    "\n",
    "from tifffile import imread, imwrite\n",
    "from skimage import morphology\n",
    "from skimage.filters import threshold_local\n",
    "from skimage import data          \n",
    "from skimage.morphology import disk\n",
    "from skimage.morphology import square\n",
    "from skimage.filters import median \n",
    "from skimage import color\n",
    "from skimage.morphology import skeletonize \n",
    "from skimage.measure import label, regionprops, regionprops_table\n",
    "from sklearn.neighbors import NearestNeighbors\n",
    "\n",
    "\n",
    "# import from the .py file associated to this code\n",
    "from src.junctions_functions import segmentation_junctions, total_junctions, non_triangular_junctions, nbr_junctions_total_csv"
   ]
  },
  {
   "cell_type": "markdown",
   "id": "5bb10732",
   "metadata": {},
   "source": [
    "# 1. create parameters for the 6 segmentations"
   ]
  },
  {
   "cell_type": "code",
   "execution_count": 2,
   "id": "143d60e1",
   "metadata": {},
   "outputs": [],
   "source": [
    "# list of the parameter of the segmentation depending on the cells type in the image\n",
    "# the name of the folders in which we store each type should be as following in red \n",
    "\n",
    "parameters = [\n",
    "    # [disk_size, block_size, min_size_object, erosion_size]\n",
    "    \n",
    "    [\"/Half shape\", 8, 111, 9500, 2], \n",
    "    [\"/Croco shape\", 8, 121, 10500, 2], \n",
    "    [\"/Long shape\", 8, 121, 8500, 2], \n",
    "    [\"/Puzzle shape\", 8, 121, 10000, 3], \n",
    "    [\"/Round shape\", 8, 97, 10000, 2], \n",
    "    [\"/5_20 shape\", 12, 171, 10000, 3], # noyaux très foncés donc un threshold plus élevé et plus d'érosion\n",
    "]"
   ]
  },
  {
   "cell_type": "markdown",
   "id": "e6e0092e",
   "metadata": {},
   "source": [
    "# 2. create masks for all the image"
   ]
  },
  {
   "cell_type": "code",
   "execution_count": null,
   "id": "6b447efa",
   "metadata": {},
   "outputs": [],
   "source": [
    "# this function creates masks for all images by using the parameters we determined before\n",
    "\n",
    "for param in parameters:\n",
    "    \n",
    "    # runs on all the paths to each image\n",
    "    for image_path in glob.glob(images_path + param[0] + \"/*.tif\"): \n",
    "        \n",
    "        print(image_path)\n",
    "        \n",
    "        # applies the segmentation on all the images with their appropriate parameters\n",
    "        skel = segmentation_junctions(image_path, *param[1:])\n",
    "        \n",
    "        # spilts the path to the image by the sign \"/\"\n",
    "        image_split = image_path.split(\"/\")\n",
    "        # recover the image name by keeping the last element\n",
    "        image_name = image_split[-1]\n",
    "        \n",
    "        # stores the mask as a tifffile file in the place indicated by the \"mask_result_path\"\n",
    "        tifffile.imwrite(mask_result_path + \"/\" + image_name, skel)"
   ]
  },
  {
   "cell_type": "markdown",
   "id": "84206c5b",
   "metadata": {},
   "source": [
    "# 3. Create final csv:\n",
    "## image name, number of non-triangular junctions, total number of junctions, centroids of non-tringular junctions\n"
   ]
  },
  {
   "cell_type": "code",
   "execution_count": null,
   "id": "81cfedde",
   "metadata": {},
   "outputs": [],
   "source": [
    "# executes the function: create the final csv with results \n",
    "\n",
    "final_df = nbr_junctions_total_csv(images_path, mask_result_path, centroid_result_path)"
   ]
  },
  {
   "cell_type": "markdown",
   "id": "1e5d3d93",
   "metadata": {},
   "source": [
    "# 4. Create bar graph"
   ]
  },
  {
   "cell_type": "code",
   "execution_count": null,
   "id": "c18ed11b",
   "metadata": {},
   "outputs": [],
   "source": [
    "# adds the code for each specie to the final cvs, it corresponds to the begining of the name of each image\n",
    "final_df[\"species code\"] = final_df['image name'].str.split('-').str[:2].str.join(\"-\")\n",
    "final_df"
   ]
  },
  {
   "cell_type": "code",
   "execution_count": null,
   "id": "c5cf105b",
   "metadata": {},
   "outputs": [],
   "source": [
    "# creates a dictionary that links each specie's code to the name of the specie\n",
    "map = {\n",
    "    \"3-07\" : \"Ceratostigma_minus\",\n",
    "    \"3-15\" : \"Rosa_mollis\",\n",
    "    \"4-01\": \"Persicaria_virginiana\",\n",
    "    \"4-02\": \"Polygonum_chinense\",\n",
    "    \"4-15\": \"Paeonia_tenuifolia\",\n",
    "    \"4-17\": \"Aconitum_carmichaelii\",\n",
    "    \"5-20\": \"Succisella_inflexa\",\n",
    "    \"5-22\": \"Beta_vulgaris\",\n",
    "    \"6-19\": \"Galium_rubioides\",\n",
    "    \"6-21\": \"Galium_odoratum\",\n",
    "    \"7-01\": \"Danae_racemosa\",\n",
    "    \"7-15\":\"Rohdea_japonica\",\n",
    "    \"7-23\": \"Alstromemeria_aurea\",\n",
    "    \"7-24\": \"Hemerocallis_fulva\",\n",
    "    \"8-06\": \"Jasminum_fruticans\"}"
   ]
  },
  {
   "cell_type": "code",
   "execution_count": null,
   "id": "e2854045",
   "metadata": {},
   "outputs": [],
   "source": [
    "# replaces the species code by the name of the species\n",
    "final_df = final_df.replace({\"species code\": map})\n",
    "final_df"
   ]
  },
  {
   "cell_type": "code",
   "execution_count": null,
   "id": "3e2710ac",
   "metadata": {},
   "outputs": [],
   "source": [
    "# create bar plot with seaborn\n",
    "\n",
    "import seaborn as sns\n",
    "\n",
    "final_df[\"number non-triangular junctions\"] = pd.to_numeric(final_df[\"number non-triangular junctions\"])\n",
    "final_df = final_df.assign(junctions_ratio = final_df[\"number non-triangular junctions\"]/final_df[\"total nb of junctions\"])\n",
    "\n",
    "                           \n",
    "sns.barplot(data=final_df, y=\"species code\", x=\"junctions_ratio\")\n",
    "plt.show()"
   ]
  }
 ],
 "metadata": {
  "kernelspec": {
   "display_name": "Python 3 (ipykernel)",
   "language": "python",
   "name": "python3"
  },
  "language_info": {
   "codemirror_mode": {
    "name": "ipython",
    "version": 3
   },
   "file_extension": ".py",
   "mimetype": "text/x-python",
   "name": "python",
   "nbconvert_exporter": "python",
   "pygments_lexer": "ipython3",
   "version": "3.9.15"
  }
 },
 "nbformat": 4,
 "nbformat_minor": 5
}
